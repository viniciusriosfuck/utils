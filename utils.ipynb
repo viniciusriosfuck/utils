{
  "nbformat": 4,
  "nbformat_minor": 0,
  "metadata": {
    "colab": {
      "name": "utils.ipynb",
      "provenance": [],
      "collapsed_sections": [],
      "toc_visible": true,
      "authorship_tag": "ABX9TyN9e8Dt1XqQdbfVGVe/87Fu",
      "include_colab_link": true
    },
    "kernelspec": {
      "name": "python3",
      "display_name": "Python 3"
    }
  },
  "cells": [
    {
      "cell_type": "markdown",
      "metadata": {
        "id": "view-in-github",
        "colab_type": "text"
      },
      "source": [
        "<a href=\"https://colab.research.google.com/github/viniciusriosfuck/utils/blob/main/utils.ipynb\" target=\"_parent\"><img src=\"https://colab.research.google.com/assets/colab-badge.svg\" alt=\"Open In Colab\"/></a>"
      ]
    },
    {
      "cell_type": "markdown",
      "metadata": {
        "id": "n2LrFGCylYed"
      },
      "source": [
        "# Utils"
      ]
    },
    {
      "cell_type": "markdown",
      "metadata": {
        "id": "An_t9YIVLfQf"
      },
      "source": [
        "This notebook contains some useful tools to increase productivity through Google Colab.\n",
        "1.   PDF\n",
        "    1. Compress: treat file as image and reduce its resolution and size\n",
        "    1. Rotate: rotate pages\n",
        "    1. Merge: join files into one\n",
        "    * [ ] OCR\n",
        "1.   Youtube\n",
        "    1. Transcript: get legend from YouTube Videos\n",
        "1. Wikipedia\n",
        "    1. Table: import a table from a wikipedia article\n",
        "1. Github\n",
        " 1. Clone: clone a repo and enables its execution\n",
        "1. Download: request and download a file to a temporary folder during a Colab execution section\n",
        "1. Google Drive: mount your Google Drive to work files on a persistent way\n",
        "\n"
      ]
    },
    {
      "cell_type": "markdown",
      "metadata": {
        "id": "E3DDELSr5EYF"
      },
      "source": [
        "# Linux"
      ]
    },
    {
      "cell_type": "markdown",
      "metadata": {
        "id": "7tBv2Ie74qH0"
      },
      "source": [
        "## Download sample"
      ]
    },
    {
      "cell_type": "code",
      "metadata": {
        "colab": {
          "base_uri": "https://localhost:8080/"
        },
        "id": "gkn0v0Cp4tE9",
        "outputId": "ec79cd31-d65d-420e-9ca3-23165ab21982"
      },
      "source": [
        "# Download sample pdf\r\n",
        "!curl -o input.pdf https://file-examples-com.github.io/uploads/2017/10/file-sample_150kB.pdf"
      ],
      "execution_count": null,
      "outputs": [
        {
          "output_type": "stream",
          "text": [
            "  % Total    % Received % Xferd  Average Speed   Time    Time     Time  Current\n",
            "                                 Dload  Upload   Total   Spent    Left  Speed\n",
            "100  139k  100  139k    0     0   663k      0 --:--:-- --:--:-- --:--:--  663k\n"
          ],
          "name": "stdout"
        }
      ]
    },
    {
      "cell_type": "markdown",
      "metadata": {
        "id": "hAswrMuj5OME"
      },
      "source": [
        "## Copy Files"
      ]
    },
    {
      "cell_type": "code",
      "metadata": {
        "id": "rWiPXiYj5CkF"
      },
      "source": [
        "!cp input.pdf input1.pdf\r\n",
        "!cp input.pdf input2.pdf"
      ],
      "execution_count": null,
      "outputs": []
    },
    {
      "cell_type": "markdown",
      "metadata": {
        "id": "C1DiSyzlo-wA"
      },
      "source": [
        "## PDF"
      ]
    },
    {
      "cell_type": "markdown",
      "metadata": {
        "id": "ZQwwCqcblUeD"
      },
      "source": [
        "### Compress"
      ]
    },
    {
      "cell_type": "markdown",
      "metadata": {
        "id": "fPS6uGLH7Son"
      },
      "source": [
        "Ghostscript"
      ]
    },
    {
      "cell_type": "code",
      "metadata": {
        "id": "dQU_6mKG7Otu"
      },
      "source": [
        "!sudo apt-get clean\r\n",
        "!sudo apt-get update\r\n",
        "!sudo apt install ghostscript"
      ],
      "execution_count": null,
      "outputs": []
    },
    {
      "cell_type": "markdown",
      "metadata": {
        "id": "yVsY_5ybg7JE"
      },
      "source": [
        "* -dPDFSETTINGS=/screen lower quality, smaller size. (72 dpi)\n",
        "* -dPDFSETTINGS=/ebook for better quality, but slightly larger * pdfs. (150 dpi)\n",
        "* -dPDFSETTINGS=/prepress output similar to Acrobat Distiller * \"Prepress Optimized\" setting (300 dpi)\n",
        "* -dPDFSETTINGS=/printer selects output similar to the Acrobat * Distiller \"Print Optimized\" setting (300 dpi)\n",
        "* -dPDFSETTINGS=/default selects output intended to be useful across a wide variety of uses, possibly at the expense of a larger output file"
      ]
    },
    {
      "cell_type": "code",
      "metadata": {
        "id": "47gXzE0behXM",
        "colab": {
          "base_uri": "https://localhost:8080/"
        },
        "outputId": "ad5d2599-4b50-4e75-a67a-22646fd4ef15"
      },
      "source": [
        "!gs -sDEVICE=pdfwrite -dCompatibilityLevel=1.4 -dPDFSETTINGS=/ebook -dNOPAUSE -dQUIET -dBATCH -sOutputFile=output.pdf input.pdf"
      ],
      "execution_count": null,
      "outputs": [
        {
          "output_type": "stream",
          "text": [
            "\r0% [Working]\r            \rGet:1 https://cloud.r-project.org/bin/linux/ubuntu bionic-cran40/ InRelease [3,626 B]\n",
            "\r0% [Connecting to archive.ubuntu.com] [Connecting to security.ubuntu.com (91.18\r0% [Connecting to archive.ubuntu.com] [Connecting to security.ubuntu.com (91.18\r0% [1 InRelease gpgv 3,626 B] [Connecting to archive.ubuntu.com (91.189.88.142)\r                                                                               \rIgn:2 https://developer.download.nvidia.com/compute/cuda/repos/ubuntu1804/x86_64  InRelease\n",
            "\r0% [1 InRelease gpgv 3,626 B] [Connecting to archive.ubuntu.com (91.189.88.142)\r                                                                               \rIgn:3 https://developer.download.nvidia.com/compute/machine-learning/repos/ubuntu1804/x86_64  InRelease\n",
            "\r0% [1 InRelease gpgv 3,626 B] [Connecting to archive.ubuntu.com (91.189.88.142)\r                                                                               \rHit:4 https://developer.download.nvidia.com/compute/cuda/repos/ubuntu1804/x86_64  Release\n",
            "\r0% [1 InRelease gpgv 3,626 B] [Connecting to archive.ubuntu.com (91.189.88.142)\r                                                                               \rGet:5 https://developer.download.nvidia.com/compute/machine-learning/repos/ubuntu1804/x86_64  Release [564 B]\n",
            "Get:6 https://developer.download.nvidia.com/compute/machine-learning/repos/ubuntu1804/x86_64  Release.gpg [833 B]\n",
            "Get:7 https://cloud.r-project.org/bin/linux/ubuntu bionic-cran40/ Packages [43.2 kB]\n",
            "Get:8 http://security.ubuntu.com/ubuntu bionic-security InRelease [88.7 kB]\n",
            "Get:9 http://ppa.launchpad.net/c2d4u.team/c2d4u4.0+/ubuntu bionic InRelease [15.9 kB]\n",
            "Hit:11 http://archive.ubuntu.com/ubuntu bionic InRelease\n",
            "Get:12 https://developer.download.nvidia.com/compute/machine-learning/repos/ubuntu1804/x86_64  Packages [66.5 kB]\n",
            "Get:13 http://archive.ubuntu.com/ubuntu bionic-updates InRelease [88.7 kB]\n",
            "Hit:14 http://ppa.launchpad.net/cran/libgit2/ubuntu bionic InRelease\n",
            "Get:15 http://security.ubuntu.com/ubuntu bionic-security/restricted amd64 Packages [261 kB]\n",
            "Get:16 http://ppa.launchpad.net/graphics-drivers/ppa/ubuntu bionic InRelease [21.3 kB]\n",
            "Get:17 http://archive.ubuntu.com/ubuntu bionic-backports InRelease [74.6 kB]\n",
            "Get:18 http://security.ubuntu.com/ubuntu bionic-security/main amd64 Packages [1,869 kB]\n",
            "Get:19 http://archive.ubuntu.com/ubuntu bionic-updates/restricted amd64 Packages [304 kB]\n",
            "Get:20 http://ppa.launchpad.net/c2d4u.team/c2d4u4.0+/ubuntu bionic/main Sources [1,707 kB]\n",
            "Get:21 http://archive.ubuntu.com/ubuntu bionic-updates/universe amd64 Packages [2,140 kB]\n",
            "Get:22 http://security.ubuntu.com/ubuntu bionic-security/universe amd64 Packages [1,376 kB]\n",
            "Get:23 http://archive.ubuntu.com/ubuntu bionic-updates/main amd64 Packages [2,296 kB]\n",
            "Get:24 http://archive.ubuntu.com/ubuntu bionic-updates/multiverse amd64 Packages [45.6 kB]\n",
            "Get:25 http://ppa.launchpad.net/c2d4u.team/c2d4u4.0+/ubuntu bionic/main amd64 Packages [874 kB]\n",
            "Get:26 http://ppa.launchpad.net/graphics-drivers/ppa/ubuntu bionic/main amd64 Packages [49.2 kB]\n",
            "Fetched 11.3 MB in 4s (2,838 kB/s)\n",
            "Reading package lists... Done\n",
            "Reading package lists... Done\n",
            "Building dependency tree       \n",
            "Reading state information... Done\n",
            "The following additional packages will be installed:\n",
            "  fonts-droid-fallback fonts-noto-mono gsfonts libcupsfilters1 libcupsimage2\n",
            "  libgs9 libgs9-common libijs-0.35 libjbig2dec0 poppler-data\n",
            "Suggested packages:\n",
            "  fonts-noto ghostscript-x poppler-utils fonts-japanese-mincho\n",
            "  | fonts-ipafont-mincho fonts-japanese-gothic | fonts-ipafont-gothic\n",
            "  fonts-arphic-ukai fonts-arphic-uming fonts-nanum\n",
            "The following NEW packages will be installed:\n",
            "  fonts-droid-fallback fonts-noto-mono ghostscript gsfonts libcupsfilters1\n",
            "  libcupsimage2 libgs9 libgs9-common libijs-0.35 libjbig2dec0 poppler-data\n",
            "0 upgraded, 11 newly installed, 0 to remove and 39 not upgraded.\n",
            "Need to get 14.1 MB of archives.\n",
            "After this operation, 49.9 MB of additional disk space will be used.\n",
            "Get:1 http://archive.ubuntu.com/ubuntu bionic/main amd64 fonts-droid-fallback all 1:6.0.1r16-1.1 [1,805 kB]\n",
            "Get:2 http://archive.ubuntu.com/ubuntu bionic/main amd64 poppler-data all 0.4.8-2 [1,479 kB]\n",
            "Get:3 http://archive.ubuntu.com/ubuntu bionic/main amd64 fonts-noto-mono all 20171026-2 [75.5 kB]\n",
            "Get:4 http://archive.ubuntu.com/ubuntu bionic-updates/main amd64 libcupsimage2 amd64 2.2.7-1ubuntu2.8 [18.6 kB]\n",
            "Get:5 http://archive.ubuntu.com/ubuntu bionic/main amd64 libijs-0.35 amd64 0.35-13 [15.5 kB]\n",
            "Get:6 http://archive.ubuntu.com/ubuntu bionic/main amd64 libjbig2dec0 amd64 0.13-6 [55.9 kB]\n",
            "Get:7 http://archive.ubuntu.com/ubuntu bionic-updates/main amd64 libgs9-common all 9.26~dfsg+0-0ubuntu0.18.04.14 [5,092 kB]\n",
            "Get:8 http://archive.ubuntu.com/ubuntu bionic-updates/main amd64 libgs9 amd64 9.26~dfsg+0-0ubuntu0.18.04.14 [2,265 kB]\n",
            "Get:9 http://archive.ubuntu.com/ubuntu bionic-updates/main amd64 ghostscript amd64 9.26~dfsg+0-0ubuntu0.18.04.14 [51.3 kB]\n",
            "Get:10 http://archive.ubuntu.com/ubuntu bionic/main amd64 gsfonts all 1:8.11+urwcyr1.0.7~pre44-4.4 [3,120 kB]\n",
            "Get:11 http://archive.ubuntu.com/ubuntu bionic-updates/main amd64 libcupsfilters1 amd64 1.20.2-0ubuntu3.1 [108 kB]\n",
            "Fetched 14.1 MB in 2s (6,419 kB/s)\n",
            "debconf: unable to initialize frontend: Dialog\n",
            "debconf: (No usable dialog-like program is installed, so the dialog based frontend cannot be used. at /usr/share/perl5/Debconf/FrontEnd/Dialog.pm line 76, <> line 11.)\n",
            "debconf: falling back to frontend: Readline\n",
            "debconf: unable to initialize frontend: Readline\n",
            "debconf: (This frontend requires a controlling tty.)\n",
            "debconf: falling back to frontend: Teletype\n",
            "dpkg-preconfigure: unable to re-open stdin: \n",
            "Selecting previously unselected package fonts-droid-fallback.\n",
            "(Reading database ... 145483 files and directories currently installed.)\n",
            "Preparing to unpack .../00-fonts-droid-fallback_1%3a6.0.1r16-1.1_all.deb ...\n",
            "Unpacking fonts-droid-fallback (1:6.0.1r16-1.1) ...\n",
            "Selecting previously unselected package poppler-data.\n",
            "Preparing to unpack .../01-poppler-data_0.4.8-2_all.deb ...\n",
            "Unpacking poppler-data (0.4.8-2) ...\n",
            "Selecting previously unselected package fonts-noto-mono.\n",
            "Preparing to unpack .../02-fonts-noto-mono_20171026-2_all.deb ...\n",
            "Unpacking fonts-noto-mono (20171026-2) ...\n",
            "Selecting previously unselected package libcupsimage2:amd64.\n",
            "Preparing to unpack .../03-libcupsimage2_2.2.7-1ubuntu2.8_amd64.deb ...\n",
            "Unpacking libcupsimage2:amd64 (2.2.7-1ubuntu2.8) ...\n",
            "Selecting previously unselected package libijs-0.35:amd64.\n",
            "Preparing to unpack .../04-libijs-0.35_0.35-13_amd64.deb ...\n",
            "Unpacking libijs-0.35:amd64 (0.35-13) ...\n",
            "Selecting previously unselected package libjbig2dec0:amd64.\n",
            "Preparing to unpack .../05-libjbig2dec0_0.13-6_amd64.deb ...\n",
            "Unpacking libjbig2dec0:amd64 (0.13-6) ...\n",
            "Selecting previously unselected package libgs9-common.\n",
            "Preparing to unpack .../06-libgs9-common_9.26~dfsg+0-0ubuntu0.18.04.14_all.deb ...\n",
            "Unpacking libgs9-common (9.26~dfsg+0-0ubuntu0.18.04.14) ...\n",
            "Selecting previously unselected package libgs9:amd64.\n",
            "Preparing to unpack .../07-libgs9_9.26~dfsg+0-0ubuntu0.18.04.14_amd64.deb ...\n",
            "Unpacking libgs9:amd64 (9.26~dfsg+0-0ubuntu0.18.04.14) ...\n",
            "Selecting previously unselected package ghostscript.\n",
            "Preparing to unpack .../08-ghostscript_9.26~dfsg+0-0ubuntu0.18.04.14_amd64.deb ...\n",
            "Unpacking ghostscript (9.26~dfsg+0-0ubuntu0.18.04.14) ...\n",
            "Selecting previously unselected package gsfonts.\n",
            "Preparing to unpack .../09-gsfonts_1%3a8.11+urwcyr1.0.7~pre44-4.4_all.deb ...\n",
            "Unpacking gsfonts (1:8.11+urwcyr1.0.7~pre44-4.4) ...\n",
            "Selecting previously unselected package libcupsfilters1:amd64.\n",
            "Preparing to unpack .../10-libcupsfilters1_1.20.2-0ubuntu3.1_amd64.deb ...\n",
            "Unpacking libcupsfilters1:amd64 (1.20.2-0ubuntu3.1) ...\n",
            "Setting up libgs9-common (9.26~dfsg+0-0ubuntu0.18.04.14) ...\n",
            "Setting up fonts-droid-fallback (1:6.0.1r16-1.1) ...\n",
            "Setting up gsfonts (1:8.11+urwcyr1.0.7~pre44-4.4) ...\n",
            "Setting up poppler-data (0.4.8-2) ...\n",
            "Setting up fonts-noto-mono (20171026-2) ...\n",
            "Setting up libcupsfilters1:amd64 (1.20.2-0ubuntu3.1) ...\n",
            "Setting up libcupsimage2:amd64 (2.2.7-1ubuntu2.8) ...\n",
            "Setting up libjbig2dec0:amd64 (0.13-6) ...\n",
            "Setting up libijs-0.35:amd64 (0.35-13) ...\n",
            "Setting up libgs9:amd64 (9.26~dfsg+0-0ubuntu0.18.04.14) ...\n",
            "Setting up ghostscript (9.26~dfsg+0-0ubuntu0.18.04.14) ...\n",
            "Processing triggers for man-db (2.8.3-2ubuntu0.1) ...\n",
            "Processing triggers for fontconfig (2.12.6-0ubuntu2) ...\n",
            "Processing triggers for libc-bin (2.27-3ubuntu1.2) ...\n",
            "/sbin/ldconfig.real: /usr/local/lib/python3.6/dist-packages/ideep4py/lib/libmkldnn.so.0 is not a symbolic link\n",
            "\n"
          ],
          "name": "stdout"
        }
      ]
    },
    {
      "cell_type": "markdown",
      "metadata": {
        "id": "VLpLmQCGlOr9"
      },
      "source": [
        "### Rotate"
      ]
    },
    {
      "cell_type": "code",
      "metadata": {
        "id": "IWzcGJuijYai",
        "colab": {
          "base_uri": "https://localhost:8080/"
        },
        "outputId": "21a224de-9c98-49cb-ea81-63b17caa2350"
      },
      "source": [
        "!pip install PyPDF2\n",
        "from PyPDF2 import PdfFileReader, PdfFileWriter\n",
        "\n",
        "def pdf_rotate(input_file_name=\"input.pdf\",\n",
        "               output_file_name=\"output.pdf\",\n",
        "               rotate_clockwise_degree=-90):\n",
        "    pdf_in = open(input_file_name, 'rb')\n",
        "    pdf_reader = PdfFileReader(pdf_in)\n",
        "    pdf_writer = PdfFileWriter()\n",
        "    for pagenum in range(pdf_reader.numPages):\n",
        "        page = pdf_reader.getPage(pagenum)\n",
        "        page.rotateClockwise(rotate_clockwise_degree)\n",
        "        pdf_writer.addPage(page)\n",
        "    pdf_out = open(output_file_name, 'wb')\n",
        "    pdf_writer.write(pdf_out)\n",
        "    pdf_out.close()\n",
        "    pdf_in.close()\n",
        "    pass\n"
      ],
      "execution_count": null,
      "outputs": [
        {
          "output_type": "stream",
          "text": [
            "Collecting PyPDF2\n",
            "\u001b[?25l  Downloading https://files.pythonhosted.org/packages/b4/01/68fcc0d43daf4c6bdbc6b33cc3f77bda531c86b174cac56ef0ffdb96faab/PyPDF2-1.26.0.tar.gz (77kB)\n",
            "\r\u001b[K     |████▎                           | 10kB 16.2MB/s eta 0:00:01\r\u001b[K     |████████▌                       | 20kB 20.5MB/s eta 0:00:01\r\u001b[K     |████████████▊                   | 30kB 20.6MB/s eta 0:00:01\r\u001b[K     |█████████████████               | 40kB 12.2MB/s eta 0:00:01\r\u001b[K     |█████████████████████▏          | 51kB 9.1MB/s eta 0:00:01\r\u001b[K     |█████████████████████████▍      | 61kB 7.3MB/s eta 0:00:01\r\u001b[K     |█████████████████████████████▋  | 71kB 8.3MB/s eta 0:00:01\r\u001b[K     |████████████████████████████████| 81kB 5.1MB/s \n",
            "\u001b[?25hBuilding wheels for collected packages: PyPDF2\n",
            "  Building wheel for PyPDF2 (setup.py) ... \u001b[?25l\u001b[?25hdone\n",
            "  Created wheel for PyPDF2: filename=PyPDF2-1.26.0-cp36-none-any.whl size=61087 sha256=4b1ee788261f93814851d95117b50d8300400b2d48a6dec4b0ffe85841dd70a0\n",
            "  Stored in directory: /root/.cache/pip/wheels/53/84/19/35bc977c8bf5f0c23a8a011aa958acd4da4bbd7a229315c1b7\n",
            "Successfully built PyPDF2\n",
            "Installing collected packages: PyPDF2\n",
            "Successfully installed PyPDF2-1.26.0\n"
          ],
          "name": "stdout"
        }
      ]
    },
    {
      "cell_type": "code",
      "metadata": {
        "id": "fWaUwcZOSdQw"
      },
      "source": [
        "# Test\n",
        "pdf_rotate(input_file_name=\"input.pdf\",\n",
        "            output_file_name=\"output_rot.pdf\",\n",
        "            rotate_clockwise_degree=-90)"
      ],
      "execution_count": null,
      "outputs": []
    },
    {
      "cell_type": "markdown",
      "metadata": {
        "id": "WJqjNflZmq8m"
      },
      "source": [
        "### Merge"
      ]
    },
    {
      "cell_type": "code",
      "metadata": {
        "id": "_YrjuENDjw0a",
        "colab": {
          "base_uri": "https://localhost:8080/"
        },
        "outputId": "f948523f-6f97-44a6-9aed-06892c1410a2"
      },
      "source": [
        "!pip install PyPDF2\n",
        "from PyPDF2 import PdfFileMerger\n",
        "\n",
        "def pdf_merge(lst_input_file_names=['input1.pdf', 'input2.pdf'],\n",
        "              output_file_name=\"output.pdf\"):\n",
        "    merger = PdfFileMerger()\n",
        "    for input_file_name in lst_input_file_names:\n",
        "        merger.append(input_file_name)\n",
        "    # merger.append(lst_input_file_names[1], pages=(0, 3))    # first 3 pages\n",
        "    # merger.append(lst_input_file_names[0])\n",
        "    merger.write(output_file_name)\n",
        "    merger.close()\n",
        "    pass\n",
        "\n"
      ],
      "execution_count": null,
      "outputs": [
        {
          "output_type": "stream",
          "text": [
            "Requirement already satisfied: PyPDF2 in /usr/local/lib/python3.6/dist-packages (1.26.0)\n"
          ],
          "name": "stdout"
        }
      ]
    },
    {
      "cell_type": "code",
      "metadata": {
        "id": "KILmhLkLSbVb"
      },
      "source": [
        "# Test\n",
        "pdf_merge(lst_input_file_names=['input.pdf', 'input.pdf'],\n",
        "              output_file_name=\"output_merge.pdf\")"
      ],
      "execution_count": null,
      "outputs": []
    },
    {
      "cell_type": "markdown",
      "metadata": {
        "id": "8CItU8V4qvhR"
      },
      "source": [
        "### TODO: OCR"
      ]
    },
    {
      "cell_type": "markdown",
      "metadata": {
        "id": "NqxqQClcpJxs"
      },
      "source": [
        "## Youtube"
      ]
    },
    {
      "cell_type": "markdown",
      "metadata": {
        "id": "cdO9YKLapOPZ"
      },
      "source": [
        "### Transcript"
      ]
    },
    {
      "cell_type": "code",
      "metadata": {
        "id": "gzzotoA0pS-I",
        "colab": {
          "base_uri": "https://localhost:8080/"
        },
        "outputId": "cbd438c8-189f-4e15-a3c3-d08e416509a4"
      },
      "source": [
        "!pip install youtube_transcript_api\n",
        "from youtube_transcript_api import YouTubeTranscriptApi\n",
        "\n",
        "# Test\n",
        "video_id = \"9m7k1x9AetU\"    # change to a youtube video id of your own interest\n",
        "raw_legend = YouTubeTranscriptApi.get_transcript(video_id, languages=['pt'])\n",
        "lst = [entry['text'] for entry in raw_legend]\n",
        "lst"
      ],
      "execution_count": null,
      "outputs": [
        {
          "output_type": "stream",
          "text": [
            "Collecting youtube_transcript_api\n",
            "  Downloading https://files.pythonhosted.org/packages/21/81/c4ae5534b113f4938b482f360babbbe6fda550441a4af8e1007dba518586/youtube_transcript_api-0.3.1-py3-none-any.whl\n",
            "Requirement already satisfied: requests in /usr/local/lib/python3.6/dist-packages (from youtube_transcript_api) (2.23.0)\n",
            "Requirement already satisfied: idna<3,>=2.5 in /usr/local/lib/python3.6/dist-packages (from requests->youtube_transcript_api) (2.10)\n",
            "Requirement already satisfied: certifi>=2017.4.17 in /usr/local/lib/python3.6/dist-packages (from requests->youtube_transcript_api) (2020.6.20)\n",
            "Requirement already satisfied: urllib3!=1.25.0,!=1.25.1,<1.26,>=1.21.1 in /usr/local/lib/python3.6/dist-packages (from requests->youtube_transcript_api) (1.24.3)\n",
            "Requirement already satisfied: chardet<4,>=3.0.2 in /usr/local/lib/python3.6/dist-packages (from requests->youtube_transcript_api) (3.0.4)\n",
            "Installing collected packages: youtube-transcript-api\n",
            "Successfully installed youtube-transcript-api-0.3.1\n"
          ],
          "name": "stdout"
        },
        {
          "output_type": "execute_result",
          "data": {
            "text/plain": [
              "['Olá bem-vindo à Bordo a partir deste',\n",
              " 'momento eu serei seu guia em direção a',\n",
              " 'um lugar inóspito e selvagem e primitivo',\n",
              " 'o passado nos próximos minutos nós',\n",
              " 'visitaremos os cantos mais escondidos do',\n",
              " 'calendário',\n",
              " 'em baixo de apertarmos um botão e nada',\n",
              " 'aparecerá como antes preparado vamos lá',\n",
              " 'ao infinito e além o',\n",
              " 'e essa é a nossa primeira parada ano2000',\n",
              " 'repare A vida lá fora é muito mais',\n",
              " 'estranha do que parece o seu celular não',\n",
              " 'fará nenhuma diferença aqui não existe',\n",
              " 'Twitter Instagram Facebook WhatsApp à',\n",
              " 'internet até funciona em alguns lugares',\n",
              " 'mas quase ninguém usa é de ser dessa',\n",
              " 'máquina e você estará automaticamente',\n",
              " 'desconectado nada de compras em loja',\n",
              " 'virtual deslocamento com o Uber',\n",
              " 'maquininha de cartão de crédito na porta',\n",
              " 'de casa Google Maps a vida é analógica',\n",
              " 'cada pessoa aqui convive com o número',\n",
              " 'limitado de seres humanos ninguém sabe o',\n",
              " 'que significa Spotify ou YouTube as',\n",
              " 'pessoas ainda escutam músicas em CD',\n",
              " 'aquele negócio Redondo a laser cabe umas',\n",
              " '15 faixas por disco e você obrigada a',\n",
              " 'ouvir um álbum por',\n",
              " 'e tudo parece mais lento mas enfim ano',\n",
              " 'as casas aqui giram em torno da',\n",
              " 'televisão e não essas de 50 polegadas 4K',\n",
              " 'que você cola na parede transforma o',\n",
              " 'controle microfone e pode pausar no',\n",
              " 'programa no meio é TV de 22 polegadas de',\n",
              " 'tubo com a teninha e as pessoas assistem',\n",
              " 'o que a própria televisão score no',\n",
              " 'horário dela Parece loucura mas nós',\n",
              " 'fomos apenas 20 anos para o passado e o',\n",
              " 'planeta é outra é soltar aqui e você',\n",
              " 'está perdido sem saber o que fazer em',\n",
              " '2020 uma em cada dez pessoas no mundo',\n",
              " 'vive abaixo da linha da pobreza Aqui a',\n",
              " 'ligação três em cada dez estamos na',\n",
              " 'virada do milênio EA realidade é bem',\n",
              " 'menos futurista do que o passado prever',\n",
              " 'a vinte por cento da humanidade ainda',\n",
              " 'não possui acesso sequer a electricidade',\n",
              " 'ou a uma fonte de água potável a boa',\n",
              " 'notícia é que quase todas as áreas da',\n",
              " 'vida dessas pessoas serão transformadas',\n",
              " 'radicalmente nas próximas duas décadas',\n",
              " 'tudo será mais ágil mais rápido mais',\n",
              " 'conectado será mais fácil estudar se',\n",
              " 'candidatar a uma vaga de emprego montar',\n",
              " 'uma empresa ler um jornal ouvir música',\n",
              " 'programar uma viagem comprar um sofá',\n",
              " 'pedir comida encontrar o amor da sua',\n",
              " 'vida e tudo isso em apenas 20 anos',\n",
              " 'comemos quase nada mais 2 mil ainda é',\n",
              " 'muito próxima Ainda temos um longo',\n",
              " 'calendário pela frente eu só preciso',\n",
              " 'apertar esse botão aqui e pronto',\n",
              " 'chegamos',\n",
              " 'e no reconheceu ainda aqui é 1950',\n",
              " 'voltamos apenas 50 anos desde a última',\n",
              " 'parada e se você abrir bem os olhos',\n",
              " 'perceberá que as coisas são ainda mais',\n",
              " 'diferentes por aqui sabe aquele luxo dos',\n",
              " 'filmes da Marilyn Monroe Não esquece é e',\n",
              " 'cisão esse aqui é um planeta muito mais',\n",
              " 'pobre do que você pensa em',\n",
              " '[Aplausos]',\n",
              " 'a marca da três pessoas lá fora duas',\n",
              " 'vivem na extrema pobreza 44 por cento da',\n",
              " 'humanidade não sabe ainda se quer ler e',\n",
              " 'escrever em países como o Iêmen EA',\n",
              " 'Arábia Saudita a escravidão ainda é',\n",
              " 'legalizada a homossexualidade é crime',\n",
              " 'mesmo numa nação desenvolvida como a',\n",
              " 'Inglaterra',\n",
              " 'é quase uma em cada três crianças no',\n",
              " 'mundo trabalham em boa parte dos Estados',\n",
              " 'Unidos brancos e negros não podem sequer',\n",
              " 'se casar parece ser outro planeta lá',\n",
              " 'fora a cada dez crianças que nascem duas',\n",
              " 'morrem antes de completar 15 anos de',\n",
              " 'idade uma criança que consegue alcançar',\n",
              " 'os dez anos tem a expectativa de viver',\n",
              " 'até os 51 as guerras entre grandes',\n",
              " 'nações são frequentes o conflito mais',\n",
              " 'mortal da história aliás Acabou de',\n",
              " 'acontecer a democracia é a exceção',\n",
              " 'apenas 25 no mundo o resto é um mar de',\n",
              " 'países controlados por ditadores de',\n",
              " 'todos os tipos a muito menos liberdade',\n",
              " 'de expressão aqui do que no período em',\n",
              " 'que vivemos nós alcançamos o meio do',\n",
              " 'século 20 mas é descer aqui e entre',\n",
              " 'o seu ainda não há sequer satélites no',\n",
              " 'espaço as maquiadoras maioria da',\n",
              " 'população mundial ainda não possui',\n",
              " 'acesso nem a um telefone mesmo na França',\n",
              " 'essa parcela e mínima inferior a 5',\n",
              " 'porcento dureza não mas essa ainda não é',\n",
              " 'a nossa última parada é',\n",
              " 'e aqui já é Bill 900 São apenas 120 anos',\n",
              " 'separando o Tik Tok dessas pessoas lá',\n",
              " 'Fora este planeta que é muito menos',\n",
              " 'habitado há quase cinco vezes menos',\n",
              " 'seres humanos do que em 2020 e apenas',\n",
              " 'quinze por cento dessas pessoas moram em',\n",
              " 'cidades um bebê nascido aqui tem a',\n",
              " 'expectativa de viver até os 32 anos 43',\n",
              " 'anos a menos do que um bebê nascido em',\n",
              " '2020 parte importante disso porque aqui',\n",
              " 'um terço das crianças não sobrevive aos',\n",
              " 'primeiros cinco anos de idade nascer',\n",
              " 'viver trabalhar tudo é muito mais',\n",
              " 'difícil as mulheres medem em média 1,51',\n",
              " 'oito em cada dez pessoas no mundo vi',\n",
              " 'em baixo da linha da pobreza a',\n",
              " 'humanidade ainda não conhece sequer o',\n",
              " 'antibiótico mesmo em um país mais',\n",
              " 'desenvolvidos como a França as pessoas',\n",
              " 'trabalham 66 horas por semana trabalho',\n",
              " 'aliás é a realidade da metade das',\n",
              " 'Crianças na Itália 8 em cada 10 seres',\n",
              " 'humanos no mundo não sabem ler nem',\n",
              " 'escrever nós estamos na virada para o',\n",
              " 'século 20 EA China ainda é governada por',\n",
              " 'uma dinastia o império otomano ainda',\n",
              " 'está de pé e os quizares ainda controlam',\n",
              " 'a Rússia em pouco tempo tudo isso',\n",
              " 'acabará as próximas décadas Aliás não',\n",
              " 'serão nada agradáveis',\n",
              " 'e em 14 anos a humanidade entrará em',\n",
              " 'guerra em 15 um genocídio marcar a',\n",
              " 'história da Armênia em 17 uma revolução',\n",
              " 'dará início à construção de uma cortina',\n",
              " 'de ferro na Europa em 18 uma das',\n",
              " 'bandeirinhas mais mortais da história',\n",
              " 'adoecer a 500 milhões de seres humanos',\n",
              " 'em 20 ser afundado Novo partido na',\n",
              " 'Alemanha o partido nacional-socialista',\n",
              " 'dos trabalhadores alemães em 21 será a',\n",
              " 'vez da Itália ver a fundação do partido',\n",
              " 'Nacional fascista',\n",
              " 'não será difícil superar isso tudo mas',\n",
              " 'as coisas podem piorar Acredite e é',\n",
              " 'exatamente por essa razão que nós',\n",
              " 'desceremos até nossa última parada o',\n",
              " 'último e derradeiro trecho dessa viagem',\n",
              " '1821',\n",
              " 'há dois séculos separam lançamento do',\n",
              " 'Playstation 5 dessas pessoas aí fora',\n",
              " 'parece muita coisa mas não é quase nada',\n",
              " 'a nossa espécie surgiu a 300 mil anos',\n",
              " 'dois séculos representam míseros 0,06%',\n",
              " 'do tempo em que habitamos este planeta',\n",
              " 'quase nada se toda a história do homo',\n",
              " 'sapiens fosse condensada em uma hora 200',\n",
              " 'anos durariam apenas dois segundos o que',\n",
              " 'temos aqui fora um mundo irreconhecível',\n",
              " 'há um bilhão de pessoas espalhadas pela',\n",
              " 'terra nove em cada dez delas na extrema',\n",
              " 'pobreza no futuro em 2020 de onde você',\n",
              " 'veio oito bilhões de seres humanos',\n",
              " 'povoaram planeta mas apenas um em cada',\n",
              " 'dez ainda viverá',\n",
              " 'As duas são meros 200 anos em direção ao',\n",
              " 'passado e sobreviver parece um pesadelo',\n",
              " 'lá fora não há eletricidade a humanidade',\n",
              " 'ainda não faz ideia do que significa',\n",
              " 'banho quente ar-condicionado ou',\n",
              " 'geladeira não existe saneamento básico',\n",
              " 'bem água encanada 9 em cada 10 seres',\n",
              " 'humanos são analfabetos ler é um milagre',\n",
              " 'a expectativa de vida de um bebê nascido',\n",
              " 'aqui é de 29 anos quatro em cada 10',\n",
              " 'crianças morrem antes de completar os 5',\n",
              " 'anos essa aqui por exemplo nascida na',\n",
              " 'Suécia teve sorte de alcançar os dez',\n",
              " 'anos sua vida será curta miserável e',\n",
              " 'dolorosa',\n",
              " 'e convivendo com dores de dente piolho',\n",
              " 'crises constantes de diarreia e fome',\n",
              " 'além de tiques nervosos e o medo de',\n",
              " 'assombração sua expectativa de vida é de',\n",
              " 'míseros 47 anos o que significa dizer',\n",
              " 'que ela se Quer alcançar a a terceira',\n",
              " 'idade um luxo do Futuro Há uma grande',\n",
              " 'chance de que ela jamais assistir a uma',\n",
              " 'peça de teatro ou ouça um som de um',\n",
              " 'piano na vida academias e surtos de',\n",
              " 'doenças serão frequentes enquanto ela',\n",
              " 'existir assim como a chance de morrer a',\n",
              " 'qualquer momento de tuberculose malária',\n",
              " 'poliomielite gripe de histeria e outras',\n",
              " 'doenças que você nunca ouviu falar o',\n",
              " 'mundo lá fora é extremamente perigoso',\n",
              " 'para começo de conversa a maior parte da',\n",
              " 'humanidade vive no campo apenas sete',\n",
              " 'porcento reside nas cidades',\n",
              " 'a parte importante da existência dos',\n",
              " 'seres humanos e dedicada a procurar',\n",
              " 'alimento buscar água potável cortar',\n",
              " 'lenha e cozinhar dá para contar nos',\n",
              " 'dedos de uma mão os casos de democracia',\n",
              " 'e estado de direito ou liberdade de',\n",
              " 'expressão no mundo quatro em cada dez',\n",
              " 'pessoas vivem em colônias cinco em cada',\n",
              " 'dez vivem autocracia os negros são',\n",
              " 'escravizados por toda a América nos',\n",
              " 'Estados Unidos a escravidão só acabar a',\n",
              " 'daqui 45 anos com a Décima Terceira',\n",
              " 'Emenda à constituição no Brasil ainda',\n",
              " 'durará longos 68 anos a situação das',\n",
              " 'mulheres é extremamente injusta perante',\n",
              " 'a lei a maioria delas não possuem',\n",
              " 'direito sequer a assinar um documento',\n",
              " 'obter uma educação contra a vontade do',\n",
              " 'marido em certos casos uma mulher aqui',\n",
              " 'e possui a responsabilidade legal sequer',\n",
              " 'pelos crimes que cometem sexo Claro é um',\n",
              " 'burro o desejo feminino é proibido a',\n",
              " 'ignorância em relação a anatomia',\n",
              " 'feminina é quase medieval médicos não',\n",
              " 'são autorizados sequer a chegar perto',\n",
              " 'das partes íntimas de suas pacientes a',\n",
              " 'violência doméstica é a regra lá fora',\n",
              " 'tudo também é mais distante a humanidade',\n",
              " 'vive isolada não há carros e aviões a',\n",
              " 'vida gira em torno dos Cavalos andar 5',\n",
              " 'km é uma aventura dolorida conhecer',\n",
              " 'outras cidades e países um sonho',\n",
              " 'praticamente impossível a imensa maioria',\n",
              " 'das pessoas',\n",
              " 'e ninguém sabe se quer que planeta é',\n",
              " 'azul ou que a Via Láctea é apenas uma de',\n",
              " 'muitas galáxias mesmo os ricos são',\n",
              " 'pobres aos nossos olhos',\n",
              " 'e pega o exemplo do sujeito desse quadro',\n",
              " 'aqui seu nome é deita hotshield e ele é',\n",
              " 'o homem mais rico do mundo meio da morar',\n",
              " 'nos próximos 16 anos graças a um',\n",
              " 'furúnculo nas costas mesmo tendo a',\n",
              " 'disposição os melhores médicos do',\n",
              " 'planeta',\n",
              " 'e os rothschilds podem ter todas as',\n",
              " 'coisas que de 820 pode oferecer mas',\n",
              " 'nenhuma fortuna do mundo aqui é capaz de',\n",
              " 'fazer nos comprar um simples antibiótico',\n",
              " 'encontrado em qualquer farmácia em 2020',\n",
              " 'e nem um antibiótico muito menos um',\n",
              " 'micro-ondas e uma geladeira ou um',\n",
              " 'aparelho de te ver mesmo sujeito é',\n",
              " 'relativamente pobre em 2020 vive uma',\n",
              " 'vida muito mais confortável do que o',\n",
              " 'homem mais rico do mundo a míseros 200',\n",
              " 'anos o mundo parece ao contrário lá fora',\n",
              " 'o grande assassino da humanidade é',\n",
              " 'infecção gastrointestinal a teoria',\n",
              " 'microbiana ainda não foi desenvolvida e',\n",
              " 'sem ela as pessoas não dão muita',\n",
              " 'importância para a higiene não há',\n",
              " 'banheiros em casa o que significa dizer',\n",
              " 'que as pessoas urinam e defecam em',\n",
              " 'latrinas comuns em contato direto com os',\n",
              " 'dejetos sem papel higiênico ou roupas de',\n",
              " 'baixo você nunca precisou conviver com',\n",
              " 'esse problema mas quem vive com o roupas',\n",
              " 'de lã não lavadas e as lanças',\n",
              " 'e hoje de lavar senti vontade de se',\n",
              " 'coçar o tempo todo assim as mãos dessas',\n",
              " 'pessoas estão sempre sujas Não',\n",
              " 'surpreende que os grupos religiosos que',\n",
              " 'aconselho lavar as mãos antes de comer',\n",
              " 'como os judeus e os muçulmanos têm o',\n",
              " 'menores taxas de mortalidade por aqui',\n",
              " 'mas não se engane nem isso significa uma',\n",
              " 'vantagem nesse mundo as pessoas são',\n",
              " 'facilmente persuadidos aqui a entender',\n",
              " 'que se menos judeus morrem é por que',\n",
              " 'envenenaram os Poços dos cristãos a boa',\n",
              " 'notícia é que a resposta para esse',\n",
              " 'problema está nascendo nessa mesma',\n",
              " 'geração chama-se Revolução Industrial o',\n",
              " 'principal produto desta época será o',\n",
              " 'algodão barato e lavável o que significa',\n",
              " 'dizer que pela primeira vez homens e',\n",
              " 'mulheres comuns poderão se dar ao Luxo',\n",
              " 'de adquirir roupas de baixo é uma dádiva',\n",
              " 'a Revolução Industrial mudará o mundo',\n",
              " '[Música]',\n",
              " 'é daqui para trás as coisas não são tão',\n",
              " 'diferentes há muito mais coisas em comum',\n",
              " 'entre um camponês de 1821 Padre nascido',\n",
              " '500 mil anos antes do que entre um',\n",
              " 'adulto de 2021 adolescente do ano 2000',\n",
              " 'para as pessoas comuns a vida aqui para',\n",
              " 'trás permanecerá estaticamente miserável',\n",
              " 'suja e ignorante tão curta quanto',\n",
              " 'previsível a vida daqui para frente será',\n",
              " 'um milagre míseros dois séculos e nada',\n",
              " 'parecerá como antes quer ver só vamos lá',\n",
              " 'esse aqui é um ser humano igualzinho a',\n",
              " 'você nós estamos em 2020',\n",
              " 'não há problemas onde ele vive',\n",
              " 'certamente mas ele possui muito mais',\n",
              " 'calorias Whats metros quadrados',\n",
              " 'gigabytes megahertz e notas de dinheiro',\n",
              " 'do que qualquer ser humano que tenha',\n",
              " 'vivido nos últimos noventa e nove',\n",
              " 'porcento da história o dia dele é',\n",
              " 'inundado de produtos e serviços',\n",
              " 'prestados pelo mundo inteiro para todos',\n",
              " 'os gostos em 2020 a mais de 10 bilhões',\n",
              " 'de produtos que ele pode adquirir numa',\n",
              " 'grande cidade como Londres São Paulo ou',\n",
              " 'Nova Iorque desde tênis papel higiênico',\n",
              " 'e roupas de baixo até carros',\n",
              " 'computadores e celulares ele viverá',\n",
              " 'melhor por nós tempo mais bem-educado',\n",
              " 'mais confortável com mais horas livres',\n",
              " 'do dia do que qualquer outro ser humano',\n",
              " 'em qualquer nação do planeta a misera',\n",
              " 'há 200 anos a vida dele EA sua é uma',\n",
              " 'exceção invejável há dezenas de bilhões',\n",
              " 'de pessoas que passaram pela terra a',\n",
              " 'vida dele EA sua é um milagre mesmo',\n",
              " 'quando tudo parece caótico e perdido',\n",
              " 'e enfim chegamos Este é o fim da nossa',\n",
              " 'viagem seja bem-vindo De Volta Para o',\n",
              " 'Futuro',\n",
              " 'E aí',\n",
              " 'E aí',\n",
              " '[Música]',\n",
              " 'e o presente e curiosa e']"
            ]
          },
          "metadata": {
            "tags": []
          },
          "execution_count": 1
        }
      ]
    },
    {
      "cell_type": "markdown",
      "metadata": {
        "id": "zS7hmAR0pgrV"
      },
      "source": [
        "## Wikipedia"
      ]
    },
    {
      "cell_type": "code",
      "metadata": {
        "id": "HyyBpLVhplKG",
        "colab": {
          "base_uri": "https://localhost:8080/"
        },
        "outputId": "dc5df47f-d283-48cc-a04e-e5863736a7fa"
      },
      "source": [
        "!pip install wikipedia\n",
        "import wikipedia as wp"
      ],
      "execution_count": null,
      "outputs": [
        {
          "output_type": "stream",
          "text": [
            "Collecting wikipedia\n",
            "  Downloading https://files.pythonhosted.org/packages/67/35/25e68fbc99e672127cc6fbb14b8ec1ba3dfef035bf1e4c90f78f24a80b7d/wikipedia-1.4.0.tar.gz\n",
            "Requirement already satisfied: beautifulsoup4 in /usr/local/lib/python3.6/dist-packages (from wikipedia) (4.6.3)\n",
            "Requirement already satisfied: requests<3.0.0,>=2.0.0 in /usr/local/lib/python3.6/dist-packages (from wikipedia) (2.23.0)\n",
            "Requirement already satisfied: chardet<4,>=3.0.2 in /usr/local/lib/python3.6/dist-packages (from requests<3.0.0,>=2.0.0->wikipedia) (3.0.4)\n",
            "Requirement already satisfied: idna<3,>=2.5 in /usr/local/lib/python3.6/dist-packages (from requests<3.0.0,>=2.0.0->wikipedia) (2.10)\n",
            "Requirement already satisfied: urllib3!=1.25.0,!=1.25.1,<1.26,>=1.21.1 in /usr/local/lib/python3.6/dist-packages (from requests<3.0.0,>=2.0.0->wikipedia) (1.24.3)\n",
            "Requirement already satisfied: certifi>=2017.4.17 in /usr/local/lib/python3.6/dist-packages (from requests<3.0.0,>=2.0.0->wikipedia) (2020.6.20)\n",
            "Building wheels for collected packages: wikipedia\n",
            "  Building wheel for wikipedia (setup.py) ... \u001b[?25l\u001b[?25hdone\n",
            "  Created wheel for wikipedia: filename=wikipedia-1.4.0-cp36-none-any.whl size=11686 sha256=5e3d9f76be01edf425dc337e975926613603206258522f1316f2a020fa1ff2d4\n",
            "  Stored in directory: /root/.cache/pip/wheels/87/2a/18/4e471fd96d12114d16fe4a446d00c3b38fb9efcb744bd31f4a\n",
            "Successfully built wikipedia\n",
            "Installing collected packages: wikipedia\n",
            "Successfully installed wikipedia-1.4.0\n"
          ],
          "name": "stdout"
        }
      ]
    },
    {
      "cell_type": "markdown",
      "metadata": {
        "id": "sFMs8a1sqCgq"
      },
      "source": [
        "### Table"
      ]
    },
    {
      "cell_type": "code",
      "metadata": {
        "id": "JjbL3CDNqEXW",
        "colab": {
          "base_uri": "https://localhost:8080/"
        },
        "outputId": "0c10b5f9-4db6-4bd9-871a-92875024d0db"
      },
      "source": [
        "import pandas as pd\n",
        "\n",
        "wp.set_lang(\"pt\")\n",
        "\n",
        "def import_wiki_table(page, table_nr):\n",
        "    \"\"\"\n",
        "        given page name and number of a table\n",
        "        return the correspondent dataframe\n",
        "    \"\"\"\n",
        "    html = wp.page(page).html().encode(\"UTF-8\")\n",
        "    try:  \n",
        "        df = pd.read_html(html, encoding='utf-8')[table_nr]\n",
        "    # Try 2nd table first as most pages contain contents table first\n",
        "    except IndexError:\n",
        "        raise(\"Erro\")\n",
        "    print(df.to_string())\n",
        "    return df\n"
      ],
      "execution_count": null,
      "outputs": [
        {
          "output_type": "stream",
          "text": [
            "\n",
            " Senadores \n",
            "\n",
            "       UF 1945 1947 1950 1954 1958 1962 1966 1970 1974 1978 1982 1986 1988 1990 1994 1998 2002 2006 2010 2014 2018\n",
            "0      AC    -    -    -    -    -   03   01   02   01   02   01   02    -   01   02   01   02   01   02   01   02\n",
            "1      AL   02   01   01   02   01   02   01   02   01   02   01   02    -   01   02   01   02   01   02   01   02\n",
            "2      AP    -    -    -    -    -    -    -    -    -    -    -    -    -   03   02   01   02   01   02   01   02\n",
            "3      AM   02   01   01   02   01   02   01   02   01   02   01   02    -   01   02   01   02   01   02   01   02\n",
            "4      BA   02   01   01   02   01   02   01   02   01   02   01   02    -   01   02   01   02   01   02   01   02\n",
            "5      CE   02   01   01   02   01   02   02   02   01   02   01   02    -   01   02   01   02   01   02   01   02\n",
            "6      DF    -    -    -    -    -    -    -    -    -    -    -   03    -   01   02   01   02   01   02   01   02\n",
            "7      ES   02   01   01   02   01   02   01   02   01   02   01   02    -   01   02   01   02   01   02   01   02\n",
            "8      GO   02   01   01   02   01   02   01   03   01   02   01   02    -   01   02   01   02   01   02   01   02\n",
            "9      GB   02   01   01   02   01   02   01   03   01    -    -    -    -    -    -    -    -    -    -    -    -\n",
            "10     MA   02   01   01   02   01   02   01   02   01   02   01   02    -   01   02   01   02   01   02   01   02\n",
            "11     MT   02   01   01   02   01   02   01   02   01   03   01   02    -   01   02   01   02   01   02   01   02\n",
            "12     MS    -    -    -    -    -    -    -    -    -   02   01   02    -   01   02   01   02   01   02   01   02\n",
            "13     MG   02   01   01   02   01   02   01   02   01   02   01   02    -   01   02   01   02   01   02   01   02\n",
            "14     PA   02   01   01   02   01   02   01   02   01   02   01   02    -   01   02   01   02   01   02   01   02\n",
            "15     PB   02   01   01   02   01   02   01   02   01   02   01   02    -   01   02   01   02   01   02   01   02\n",
            "16     PR   02   01   01   02   01   02   01   02   01   02   01   02    -   01   02   01   02   01   02   01   02\n",
            "17     PE   02   01   01   02   01   02   01   02   01   02   01   02    -   01   02   01   02   01   02   01   02\n",
            "18     PI   02   01   01   02   01   02   01   02   01   02   01   02    -   01   02   01   02   01   02   01   02\n",
            "19     RJ   02   01   01   02   01   02   01   02   01   02   01   02    -   01   02   01   02   01   02   01   02\n",
            "20     RN   02   01   01   02   01   02   01   02   01   02   01   02    -   01   02   01   02   01   02   01   02\n",
            "21     RS   02   01   01   02   01   02   01   02   01   02   01   02    -   01   02   01   02   01   02   01   02\n",
            "22     RO    -    -    -    -    -    -    -    -    -    -   03   02    -   01   02   01   02   01   02   01   02\n",
            "23     RR    -    -    -    -    -    -    -    -    -    -    -    -    -   03   02   01   02   01   02   01   02\n",
            "24     SC   02   01   01   02   01   02   01   02   01   02   01   02    -   01   02   01   02   01   02   01   02\n",
            "25     SP   02   01   01   02   01   02   01   02   01   02   01   02    -   01   02   01   02   01   02   01   02\n",
            "26     SE   02   01   01   02   01   02   01   02   01   02   01   02    -   01   02   01   02   01   02   01   02\n",
            "27     TO    -    -    -    -    -    -    -    -    -    -    -    -   03   01   02   01   02   01   02   01   02\n",
            "28  Total   42   21   21   42   21   45   23   46   22   45   25   49   03   31   54   27   54   27   54   27   54\n"
          ],
          "name": "stdout"
        }
      ]
    },
    {
      "cell_type": "code",
      "metadata": {
        "id": "1VHxNClxtWEC"
      },
      "source": [
        "# Test\n",
        "page = \"Número_de_parlamentares_do_Brasil_por_ano_de_eleição\"\n",
        "print(\"\\n Senadores \\n\")\n",
        "df_senador = import_wiki_table(page, 0)"
      ],
      "execution_count": null,
      "outputs": []
    },
    {
      "cell_type": "markdown",
      "metadata": {
        "id": "UZ0NsR1ErmTC"
      },
      "source": [
        "## Github"
      ]
    },
    {
      "cell_type": "markdown",
      "metadata": {
        "id": "ZZUu8hb6rp0j"
      },
      "source": [
        "### Clone"
      ]
    },
    {
      "cell_type": "code",
      "metadata": {
        "id": "aD__LLx4tAAc",
        "colab": {
          "base_uri": "https://localhost:8080/"
        },
        "outputId": "835b3435-dcf9-4bb7-91f4-370b5c5e6c2b"
      },
      "source": [
        "!git clone https://github.com/viniciusriosfuck/hello-world"
      ],
      "execution_count": null,
      "outputs": [
        {
          "output_type": "stream",
          "text": [
            "Cloning into 'hello-world'...\n",
            "remote: Enumerating objects: 3, done.\u001b[K\n",
            "remote: Counting objects: 100% (3/3), done.\u001b[K\n",
            "remote: Total 3 (delta 0), reused 0 (delta 0), pack-reused 0\u001b[K\n",
            "Unpacking objects: 100% (3/3), done.\n"
          ],
          "name": "stdout"
        }
      ]
    },
    {
      "cell_type": "code",
      "metadata": {
        "id": "T3PI1ksFtGoS",
        "colab": {
          "base_uri": "https://localhost:8080/"
        },
        "outputId": "4f711c1b-ae79-47f9-dbd4-e165652ec97f"
      },
      "source": [
        "# Test\n",
        "!python hello-world/main.py"
      ],
      "execution_count": null,
      "outputs": [
        {
          "output_type": "stream",
          "text": [
            "Hello world!\n"
          ],
          "name": "stdout"
        }
      ]
    },
    {
      "cell_type": "markdown",
      "metadata": {
        "id": "Qn8xiVGars9i"
      },
      "source": [
        "## Download"
      ]
    },
    {
      "cell_type": "code",
      "metadata": {
        "id": "VsJMDpo2rwf8",
        "colab": {
          "base_uri": "https://localhost:8080/"
        },
        "outputId": "9688c12f-9cb7-4b68-8d6b-ff749c73c245"
      },
      "source": [
        "import requests\n",
        "import time\n",
        "import numpy as np\n",
        "\n",
        "from progressbar import ProgressBar\n",
        "\n",
        "def download_file(url, file_name, n_chunk=5):\n",
        "    print(f\"\\nDownloading\\nFile: {file_name}\")\n",
        "    r = requests.get(url, stream=True, verify=False)\n",
        "    # Estimates the number of bar updates\n",
        "    block_size_bytes = 1024  #1 kb\n",
        "    file_size_bytes = int(r.headers.get('Content-Length', None))\n",
        "    chunk_size_bytes = n_chunk * block_size_bytes\n",
        "    num_bars = int(np.ceil(file_size_bytes / chunk_size_bytes))\n",
        "    bar =  ProgressBar(maxval=num_bars).start()\n",
        "    with open(file_name, 'wb') as f:\n",
        "        for i, chunk in enumerate(r.iter_content(chunk_size=chunk_size_bytes)):\n",
        "            f.write(chunk)\n",
        "            bar.update(i+1)\n",
        "            # Add a little sleep so you can see the bar progress\n",
        "            time.sleep(0.05)\n",
        "    return\n",
        "\n"
      ],
      "execution_count": null,
      "outputs": [
        {
          "output_type": "stream",
          "text": [
            "\n",
            "Downloading\n",
            "File: 10Mb.dat\n"
          ],
          "name": "stdout"
        },
        {
          "output_type": "stream",
          "text": [
            " 99% (244 of 245) |##################### | Elapsed Time: 0:00:12 ETA:   0:00:00"
          ],
          "name": "stderr"
        }
      ]
    },
    {
      "cell_type": "code",
      "metadata": {
        "id": "bJjUoEXntuAg"
      },
      "source": [
        "# Test\n",
        "url = \"http://www.ovh.net/files/10Mb.dat\" #big file test\n",
        "file_name = url.split('/')[-1]\n",
        "download_file(url, file_name)"
      ],
      "execution_count": null,
      "outputs": []
    },
    {
      "cell_type": "markdown",
      "metadata": {
        "id": "YHozx4F1sy98"
      },
      "source": [
        "## Google Drive"
      ]
    },
    {
      "cell_type": "code",
      "metadata": {
        "id": "G6wLAGOpqbJN"
      },
      "source": [
        "from google.colab import drive\n",
        "drive.mount(\"/content/gdrive\")"
      ],
      "execution_count": null,
      "outputs": []
    },
    {
      "cell_type": "markdown",
      "metadata": {
        "id": "p8lO_ZAJz55G"
      },
      "source": [
        "# Video\r\n"
      ]
    },
    {
      "cell_type": "markdown",
      "metadata": {
        "id": "FhRhEfNt3bWI"
      },
      "source": [
        "## Download video"
      ]
    },
    {
      "cell_type": "code",
      "metadata": {
        "colab": {
          "base_uri": "https://localhost:8080/"
        },
        "id": "x_oXZPcQ3drU",
        "outputId": "6ad7f359-04d6-4f45-986d-8cb658c1f6e0"
      },
      "source": [
        "# Download sample video\r\n",
        "!curl -o input.mp4 https://www.sample-videos.com/video123/mp4/720/big_buck_bunny_720p_1mb.mp4"
      ],
      "execution_count": null,
      "outputs": [
        {
          "output_type": "stream",
          "text": [
            "  % Total    % Received % Xferd  Average Speed   Time    Time     Time  Current\n",
            "                                 Dload  Upload   Total   Spent    Left  Speed\n",
            "100 1030k  100 1030k    0     0   282k      0  0:00:03  0:00:03 --:--:--  281k\n"
          ],
          "name": "stdout"
        }
      ]
    },
    {
      "cell_type": "markdown",
      "metadata": {
        "id": "nS-8j7_4z880"
      },
      "source": [
        "## Speed up"
      ]
    },
    {
      "cell_type": "code",
      "metadata": {
        "colab": {
          "base_uri": "https://localhost:8080/"
        },
        "id": "PjxmMcCRz_yM",
        "outputId": "638639e1-3d80-4f54-ec34-2249d567fb66"
      },
      "source": [
        "# 5 times, drop frames in between\r\n",
        "!ffmpeg -i input.mp4 -vf  \"setpts=0.20*PTS\" output.mp4"
      ],
      "execution_count": null,
      "outputs": [
        {
          "output_type": "stream",
          "text": [
            "ffmpeg version 3.4.8-0ubuntu0.2 Copyright (c) 2000-2020 the FFmpeg developers\n",
            "  built with gcc 7 (Ubuntu 7.5.0-3ubuntu1~18.04)\n",
            "  configuration: --prefix=/usr --extra-version=0ubuntu0.2 --toolchain=hardened --libdir=/usr/lib/x86_64-linux-gnu --incdir=/usr/include/x86_64-linux-gnu --enable-gpl --disable-stripping --enable-avresample --enable-avisynth --enable-gnutls --enable-ladspa --enable-libass --enable-libbluray --enable-libbs2b --enable-libcaca --enable-libcdio --enable-libflite --enable-libfontconfig --enable-libfreetype --enable-libfribidi --enable-libgme --enable-libgsm --enable-libmp3lame --enable-libmysofa --enable-libopenjpeg --enable-libopenmpt --enable-libopus --enable-libpulse --enable-librubberband --enable-librsvg --enable-libshine --enable-libsnappy --enable-libsoxr --enable-libspeex --enable-libssh --enable-libtheora --enable-libtwolame --enable-libvorbis --enable-libvpx --enable-libwavpack --enable-libwebp --enable-libx265 --enable-libxml2 --enable-libxvid --enable-libzmq --enable-libzvbi --enable-omx --enable-openal --enable-opengl --enable-sdl2 --enable-libdc1394 --enable-libdrm --enable-libiec61883 --enable-chromaprint --enable-frei0r --enable-libopencv --enable-libx264 --enable-shared\n",
            "  libavutil      55. 78.100 / 55. 78.100\n",
            "  libavcodec     57.107.100 / 57.107.100\n",
            "  libavformat    57. 83.100 / 57. 83.100\n",
            "  libavdevice    57. 10.100 / 57. 10.100\n",
            "  libavfilter     6.107.100 /  6.107.100\n",
            "  libavresample   3.  7.  0 /  3.  7.  0\n",
            "  libswscale      4.  8.100 /  4.  8.100\n",
            "  libswresample   2.  9.100 /  2.  9.100\n",
            "  libpostproc    54.  7.100 / 54.  7.100\n",
            "Input #0, mov,mp4,m4a,3gp,3g2,mj2, from 'input.mp4':\n",
            "  Metadata:\n",
            "    major_brand     : isom\n",
            "    minor_version   : 512\n",
            "    compatible_brands: isomiso2avc1mp41\n",
            "    creation_time   : 1970-01-01T00:00:00.000000Z\n",
            "    encoder         : Lavf53.24.2\n",
            "  Duration: 00:00:05.31, start: 0.000000, bitrate: 1589 kb/s\n",
            "    Stream #0:0(und): Video: h264 (Main) (avc1 / 0x31637661), yuv420p, 1280x720 [SAR 1:1 DAR 16:9], 1205 kb/s, 25 fps, 25 tbr, 12800 tbn, 50 tbc (default)\n",
            "    Metadata:\n",
            "      creation_time   : 1970-01-01T00:00:00.000000Z\n",
            "      handler_name    : VideoHandler\n",
            "    Stream #0:1(und): Audio: aac (LC) (mp4a / 0x6134706D), 48000 Hz, 5.1, fltp, 384 kb/s (default)\n",
            "    Metadata:\n",
            "      creation_time   : 1970-01-01T00:00:00.000000Z\n",
            "      handler_name    : SoundHandler\n",
            "Stream mapping:\n",
            "  Stream #0:0 -> #0:0 (h264 (native) -> h264 (libx264))\n",
            "  Stream #0:1 -> #0:1 (aac (native) -> aac (native))\n",
            "Press [q] to stop, [?] for help\n",
            "\u001b[1;36m[libx264 @ 0x562ba05b6800] \u001b[0musing SAR=1/1\n",
            "\u001b[1;36m[libx264 @ 0x562ba05b6800] \u001b[0musing cpu capabilities: MMX2 SSE2Fast SSSE3 SSE4.2 AVX FMA3 BMI2 AVX2\n",
            "\u001b[1;36m[libx264 @ 0x562ba05b6800] \u001b[0mprofile High, level 3.1\n",
            "\u001b[1;36m[libx264 @ 0x562ba05b6800] \u001b[0m264 - core 152 r2854 e9a5903 - H.264/MPEG-4 AVC codec - Copyleft 2003-2017 - http://www.videolan.org/x264.html - options: cabac=1 ref=3 deblock=1:0:0 analyse=0x3:0x113 me=hex subme=7 psy=1 psy_rd=1.00:0.00 mixed_ref=1 me_range=16 chroma_me=1 trellis=1 8x8dct=1 cqm=0 deadzone=21,11 fast_pskip=1 chroma_qp_offset=-2 threads=3 lookahead_threads=1 sliced_threads=0 nr=0 decimate=1 interlaced=0 bluray_compat=0 constrained_intra=0 bframes=3 b_pyramid=2 b_adapt=1 b_bias=0 direct=1 weightb=1 open_gop=0 weightp=2 keyint=250 keyint_min=25 scenecut=40 intra_refresh=0 rc_lookahead=40 rc=crf mbtree=1 crf=23.0 qcomp=0.60 qpmin=0 qpmax=69 qpstep=4 ip_ratio=1.40 aq=1:1.00\n",
            "Output #0, mp4, to 'output.mp4':\n",
            "  Metadata:\n",
            "    major_brand     : isom\n",
            "    minor_version   : 512\n",
            "    compatible_brands: isomiso2avc1mp41\n",
            "    encoder         : Lavf57.83.100\n",
            "    Stream #0:0(und): Video: h264 (libx264) (avc1 / 0x31637661), yuv420p, 1280x720 [SAR 1:1 DAR 16:9], q=-1--1, 25 fps, 12800 tbn, 25 tbc (default)\n",
            "    Metadata:\n",
            "      creation_time   : 1970-01-01T00:00:00.000000Z\n",
            "      handler_name    : VideoHandler\n",
            "      encoder         : Lavc57.107.100 libx264\n",
            "    Side data:\n",
            "      cpb: bitrate max/min/avg: 0/0/0 buffer size: 0 vbv_delay: -1\n",
            "    Stream #0:1(und): Audio: aac (LC) (mp4a / 0x6134706D), 48000 Hz, 5.1, fltp, 341 kb/s (default)\n",
            "    Metadata:\n",
            "      creation_time   : 1970-01-01T00:00:00.000000Z\n",
            "      handler_name    : SoundHandler\n",
            "      encoder         : Lavc57.107.100 aac\n",
            "\u001b[0;33mPast duration 0.800774 too large\n",
            "frame=   29 fps= 12 q=-1.0 Lsize=     645kB time=00:00:05.31 bitrate= 995.2kbits/s dup=0 drop=103 speed= 2.2x    \n",
            "video:417kB audio:226kB subtitle:0kB other streams:0kB global headers:0kB muxing overhead: 0.464903%\n",
            "\u001b[1;36m[libx264 @ 0x562ba05b6800] \u001b[0mframe I:1     Avg QP:22.69  size:100026\n",
            "\u001b[1;36m[libx264 @ 0x562ba05b6800] \u001b[0mframe P:8     Avg QP:24.61  size: 25368\n",
            "\u001b[1;36m[libx264 @ 0x562ba05b6800] \u001b[0mframe B:20    Avg QP:27.95  size:  6146\n",
            "\u001b[1;36m[libx264 @ 0x562ba05b6800] \u001b[0mconsecutive B-frames:  6.9%  0.0% 10.3% 82.8%\n",
            "\u001b[1;36m[libx264 @ 0x562ba05b6800] \u001b[0mmb I  I16..4:  6.0% 25.1% 68.8%\n",
            "\u001b[1;36m[libx264 @ 0x562ba05b6800] \u001b[0mmb P  I16..4:  2.8%  9.3%  1.6%  P16..4: 39.4% 19.1%  9.7%  0.0%  0.0%    skip:18.1%\n",
            "\u001b[1;36m[libx264 @ 0x562ba05b6800] \u001b[0mmb B  I16..4:  0.8%  2.2%  0.3%  B16..8: 43.7%  4.6%  0.7%  direct: 1.6%  skip:46.1%  L0:45.7% L1:45.3% BI: 9.1%\n",
            "\u001b[1;36m[libx264 @ 0x562ba05b6800] \u001b[0m8x8 transform intra:52.1% inter:74.1%\n",
            "\u001b[1;36m[libx264 @ 0x562ba05b6800] \u001b[0mcoded y,uvDC,uvAC intra: 68.6% 80.4% 34.1% inter: 17.6% 22.1% 1.3%\n",
            "\u001b[1;36m[libx264 @ 0x562ba05b6800] \u001b[0mi16 v,h,dc,p: 17% 26%  9% 48%\n",
            "\u001b[1;36m[libx264 @ 0x562ba05b6800] \u001b[0mi8 v,h,dc,ddl,ddr,vr,hd,vl,hu: 20% 18% 14%  5%  9%  9%  9%  7%  8%\n",
            "\u001b[1;36m[libx264 @ 0x562ba05b6800] \u001b[0mi4 v,h,dc,ddl,ddr,vr,hd,vl,hu: 20% 12% 11%  9%  9% 10%  7% 15%  7%\n",
            "\u001b[1;36m[libx264 @ 0x562ba05b6800] \u001b[0mi8c dc,h,v,p: 48% 21% 20% 11%\n",
            "\u001b[1;36m[libx264 @ 0x562ba05b6800] \u001b[0mWeighted P-Frames: Y:12.5% UV:0.0%\n",
            "\u001b[1;36m[libx264 @ 0x562ba05b6800] \u001b[0mref P L0: 66.1% 16.5% 14.7%  2.5%  0.2%\n",
            "\u001b[1;36m[libx264 @ 0x562ba05b6800] \u001b[0mref B L0: 95.2%  4.1%  0.7%\n",
            "\u001b[1;36m[libx264 @ 0x562ba05b6800] \u001b[0mref B L1: 98.7%  1.3%\n",
            "\u001b[1;36m[libx264 @ 0x562ba05b6800] \u001b[0mkb/s:2937.19\n",
            "\u001b[1;36m[aac @ 0x562ba05b7700] \u001b[0mQavg: 1497.885\n"
          ],
          "name": "stdout"
        }
      ]
    },
    {
      "cell_type": "code",
      "metadata": {
        "colab": {
          "base_uri": "https://localhost:8080/"
        },
        "id": "wI5vw6SK0N98",
        "outputId": "43da95f0-04c1-4a5d-a7bd-3c9fddbe3e8b"
      },
      "source": [
        "# https://stackoverflow.com/questions/63631973/how-can-i-use-python-to-speed-up-a-video-without-dropping-frame-rate\r\n",
        "from moviepy.editor import VideoFileClip\r\n",
        "import moviepy.video.fx.all as vfx\r\n",
        "\r\n",
        "in_loc = 'input.mp4'\r\n",
        "out_loc = 'output.mp4'\r\n",
        "\r\n",
        "speed_up_factor = 5\r\n",
        "\r\n",
        "# Import video clip\r\n",
        "clip = VideoFileClip(in_loc)\r\n",
        "print(\"fps: {}\".format(clip.fps))\r\n",
        "\r\n",
        "# Modify the FPS\r\n",
        "clip = clip.set_fps(clip.fps * speed_up_factor)\r\n",
        "\r\n",
        "# Apply speed up\r\n",
        "final = clip.fx(vfx.speedx, speed_up_factor)\r\n",
        "print(\"fps: {}\".format(final.fps))\r\n",
        "\r\n",
        "# cut video between\r\n",
        "# final = final.subclip(0, 39.5)\r\n",
        "\r\n",
        "# Save video clip\r\n",
        "final.write_videofile(out_loc)"
      ],
      "execution_count": null,
      "outputs": [
        {
          "output_type": "stream",
          "text": [
            "Imageio: 'ffmpeg-linux64-v3.3.1' was not found on your computer; downloading it now.\n",
            "Try 1. Download from https://github.com/imageio/imageio-binaries/raw/master/ffmpeg/ffmpeg-linux64-v3.3.1 (43.8 MB)\n",
            "Downloading: 8192/45929032 bytes (0.0%)\b\b\b\b\b\b\b\b\b\b\b\b\b\b\b\b\b\b\b\b\b\b\b\b\b\b2850816/45929032 bytes (6.2%)\b\b\b\b\b\b\b\b\b\b\b\b\b\b\b\b\b\b\b\b\b\b\b\b\b\b\b\b\b6004736/45929032 bytes (13.1%)\b\b\b\b\b\b\b\b\b\b\b\b\b\b\b\b\b\b\b\b\b\b\b\b\b\b\b\b\b\b9379840/45929032 bytes (20.4%)\b\b\b\b\b\b\b\b\b\b\b\b\b\b\b\b\b\b\b\b\b\b\b\b\b\b\b\b\b\b12730368/45929032 bytes (27.7%)\b\b\b\b\b\b\b\b\b\b\b\b\b\b\b\b\b\b\b\b\b\b\b\b\b\b\b\b\b\b\b16007168/45929032 bytes (34.9%)\b\b\b\b\b\b\b\b\b\b\b\b\b\b\b\b\b\b\b\b\b\b\b\b\b\b\b\b\b\b\b19275776/45929032 bytes (42.0%)\b\b\b\b\b\b\b\b\b\b\b\b\b\b\b\b\b\b\b\b\b\b\b\b\b\b\b\b\b\b\b22487040/45929032 bytes (49.0%)\b\b\b\b\b\b\b\b\b\b\b\b\b\b\b\b\b\b\b\b\b\b\b\b\b\b\b\b\b\b\b25919488/45929032 bytes (56.4%)\b\b\b\b\b\b\b\b\b\b\b\b\b\b\b\b\b\b\b\b\b\b\b\b\b\b\b\b\b\b\b29220864/45929032 bytes (63.6%)\b\b\b\b\b\b\b\b\b\b\b\b\b\b\b\b\b\b\b\b\b\b\b\b\b\b\b\b\b\b\b32448512/45929032 bytes (70.6%)\b\b\b\b\b\b\b\b\b\b\b\b\b\b\b\b\b\b\b\b\b\b\b\b\b\b\b\b\b\b\b35667968/45929032 bytes (77.7%)\b\b\b\b\b\b\b\b\b\b\b\b\b\b\b\b\b\b\b\b\b\b\b\b\b\b\b\b\b\b\b39084032/45929032 bytes (85.1%)\b\b\b\b\b\b\b\b\b\b\b\b\b\b\b\b\b\b\b\b\b\b\b\b\b\b\b\b\b\b\b42483712/45929032 bytes (92.5%)\b\b\b\b\b\b\b\b\b\b\b\b\b\b\b\b\b\b\b\b\b\b\b\b\b\b\b\b\b\b\b45891584/45929032 bytes (99.9%)\b\b\b\b\b\b\b\b\b\b\b\b\b\b\b\b\b\b\b\b\b\b\b\b\b\b\b\b\b\b\b45929032/45929032 bytes (100.0%)\n",
            "  Done\n",
            "File saved as /root/.imageio/ffmpeg/ffmpeg-linux64-v3.3.1.\n",
            "fps: 25.0\n",
            "fps: 125.0\n",
            "[MoviePy] >>>> Building video output.mp4\n",
            "[MoviePy] Writing audio in outputTEMP_MPY_wvf_snd.mp3\n"
          ],
          "name": "stdout"
        },
        {
          "output_type": "stream",
          "text": [
            "100%|██████████| 24/24 [00:00<00:00, 1339.89it/s]"
          ],
          "name": "stderr"
        },
        {
          "output_type": "stream",
          "text": [
            "[MoviePy] Done.\n",
            "[MoviePy] Writing video output.mp4\n"
          ],
          "name": "stdout"
        },
        {
          "output_type": "stream",
          "text": [
            "\n",
            "100%|██████████| 133/133 [00:04<00:00, 26.83it/s]\n"
          ],
          "name": "stderr"
        },
        {
          "output_type": "stream",
          "text": [
            "[MoviePy] Done.\n",
            "[MoviePy] >>>> Video ready: output.mp4 \n",
            "\n"
          ],
          "name": "stdout"
        }
      ]
    },
    {
      "cell_type": "markdown",
      "metadata": {
        "id": "olUNiX0w0dRi"
      },
      "source": [
        "## Cut video"
      ]
    },
    {
      "cell_type": "code",
      "metadata": {
        "colab": {
          "base_uri": "https://localhost:8080/"
        },
        "id": "mdtyVaoV0ce1",
        "outputId": "6d29716a-199c-4b56-891b-2543beb8b5d1"
      },
      "source": [
        "# https://www.geeksforgeeks.org/moviepy-applying-speed-effect-on-video-clip/\r\n",
        "\r\n",
        "from moviepy.editor import VideoFileClip\r\n",
        "import moviepy.video.fx.all as vfx\r\n",
        "\r\n",
        "in_loc = 'input.mp4'\r\n",
        "out_loc = 'output.mp4'\r\n",
        "\r\n",
        "# seconds\r\n",
        "start_time = 0\r\n",
        "end_time = 0.5\r\n",
        "\r\n",
        "VideoFileClip(in_loc).subclip(start_time, end_time).write_videofile(out_loc)"
      ],
      "execution_count": null,
      "outputs": [
        {
          "output_type": "stream",
          "text": [
            "[MoviePy] >>>> Building video output.mp4\n",
            "[MoviePy] Writing audio in outputTEMP_MPY_wvf_snd.mp3\n"
          ],
          "name": "stdout"
        },
        {
          "output_type": "stream",
          "text": [
            "100%|██████████| 12/12 [00:00<00:00, 1306.30it/s]"
          ],
          "name": "stderr"
        },
        {
          "output_type": "stream",
          "text": [
            "[MoviePy] Done.\n",
            "[MoviePy] Writing video output.mp4\n"
          ],
          "name": "stdout"
        },
        {
          "output_type": "stream",
          "text": [
            "\n",
            "100%|██████████| 13/13 [00:00<00:00, 82.90it/s]\n"
          ],
          "name": "stderr"
        },
        {
          "output_type": "stream",
          "text": [
            "[MoviePy] Done.\n",
            "[MoviePy] >>>> Video ready: output.mp4 \n",
            "\n"
          ],
          "name": "stdout"
        }
      ]
    },
    {
      "cell_type": "markdown",
      "metadata": {
        "id": "S18Iy5El3ndM"
      },
      "source": [
        "## Show video in Colab"
      ]
    },
    {
      "cell_type": "code",
      "metadata": {
        "id": "WbKgmCn03m9n"
      },
      "source": [
        "from google.colab.patches import cv2_imshow\r\n",
        "import cv2\r\n",
        "cap = cv2.VideoCapture('input.mp4')\r\n",
        "while cap.isOpened():\r\n",
        "    ret, image = cap.read()\r\n",
        "\r\n",
        "    if not ret:\r\n",
        "      break\r\n",
        "\r\n",
        "    cv2_imshow(image) # Note cv2_imshow, not cv2.imshow\r\n",
        "\r\n",
        "    cv2.waitKey(1) & 0xff\r\n",
        "\r\n",
        "cv2.destroyAllWindows()\r\n",
        "cap.release()"
      ],
      "execution_count": null,
      "outputs": []
    },
    {
      "cell_type": "code",
      "metadata": {
        "id": "hVoFIiOV8EFD"
      },
      "source": [
        ""
      ],
      "execution_count": null,
      "outputs": []
    }
  ]
}